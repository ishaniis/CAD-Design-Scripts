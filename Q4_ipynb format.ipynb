{
 "cells": [
  {
   "cell_type": "code",
   "execution_count": 1,
   "metadata": {},
   "outputs": [],
   "source": [
    "import numpy as np\n",
    "import matplotlib.pyplot as plt\n",
    "import sklearn\n",
    "import scipy\n",
    "from mpl_toolkits.mplot3d import Axes3D\n",
    "from numpy.linalg import inv\n",
    "import math"
   ]
  },
  {
   "cell_type": "code",
   "execution_count": 2,
   "metadata": {},
   "outputs": [],
   "source": [
    "P0 = np.array([2,4,1])\n",
    "P0_derivative = np.array([2,4,2])\n",
    "P1 = np.array([3,5,2])\n",
    "P2 = np.array([5,4,3])\n",
    "P3 = np.array([7,5,2])\n",
    "P4 = np.array([15,1,8])\n",
    "P5 = np.array([15,1,8])\n",
    "P5_derivative = np.array([4,3,1])\n",
    "P = np.concatenate((P0,P5))\n",
    "P_derivative = np.concatenate((P0_derivative, P5_derivative))"
   ]
  },
  {
   "cell_type": "code",
   "execution_count": 3,
   "metadata": {},
   "outputs": [
    {
     "data": {
      "text/plain": [
       "array([[4, 1, 0, 0],\n",
       "       [1, 4, 1, 0],\n",
       "       [0, 1, 4, 1],\n",
       "       [0, 0, 1, 4]])"
      ]
     },
     "execution_count": 3,
     "metadata": {},
     "output_type": "execute_result"
    }
   ],
   "source": [
    "M_d = np.array(([4,1,0,0],[1,4,1,0] , [0,1,4,1] , [0,0,1,4]))\n",
    "M_d"
   ]
  },
  {
   "cell_type": "code",
   "execution_count": 4,
   "metadata": {},
   "outputs": [],
   "source": [
    "U_x = np.array(([-3*P0[0] + 3*P2[0]-P0_derivative[0]],[-3*P1[0] + 3*P3[0]],[-3*P2[0] + 3*P4[0]],[-3*P3[0] + 3*P5[0] - P5_derivative[0]]))\n",
    "U_y = np.array(([-3*P0[1] + 3*P2[1]-P0_derivative[1]],[-3*P1[1] + 3*P3[1]],[-3*P2[1] + 3*P4[1]],[-3*P3[1] + 3*P5[1] - P5_derivative[1]]))\n",
    "U_z = np.array(([-3*P0[2] + 3*P2[2]-P0_derivative[2]],[-3*P1[2] + 3*P3[2]],[-3*P2[2] + 3*P4[2]],[-3*P3[2] + 3*P5[2] - P5_derivative[2]]))"
   ]
  },
  {
   "cell_type": "code",
   "execution_count": 5,
   "metadata": {},
   "outputs": [],
   "source": [
    "A_x = np.matmul(inv(M_d),U_x)\n",
    "A_y = np.matmul(inv(M_d),U_y)\n",
    "A_z = np.matmul(inv(M_d),U_z)"
   ]
  },
  {
   "cell_type": "code",
   "execution_count": 6,
   "metadata": {},
   "outputs": [],
   "source": [
    "P1_derivative = np.array(([A_x[0]],[A_y[0]],[A_z[0]]))\n",
    "P2_derivative = np.array(([A_x[1]],[A_y[1]],[A_z[1]]))\n",
    "P3_derivative = np.array(([A_x[2]],[A_y[2]],[A_z[2]]))\n",
    "B_x_1 = np.zeros((4,1))\n",
    "B_y_1 = np.zeros((4,1))\n",
    "B_z_1 = np.zeros((4,1))\n",
    "B_x_2 = np.zeros((4,1))\n",
    "B_y_2 = np.zeros((4,1))\n",
    "B_z_2 = np.zeros((4,1))\n",
    "B_x_3 = np.zeros((4,1))\n",
    "B_y_3 = np.zeros((4,1))\n",
    "B_z_3 = np.zeros((4,1))\n",
    "B_x_4 = np.zeros((4,1))\n",
    "B_y_4 = np.zeros((4,1))\n",
    "B_z_4 = np.zeros((4,1))"
   ]
  },
  {
   "cell_type": "code",
   "execution_count": 7,
   "metadata": {},
   "outputs": [],
   "source": [
    "#Between P0 and P1 #MB01\n",
    "M = np.array(([1,0,0,0],[0,0,1,0] , [-3,3,-2,-1] , [2,-2,1,1]))\n",
    "np.put(B_x_1, [0], P0[0])\n",
    "np.put(B_x_1, [1], P1[0])\n",
    "np.put(B_x_1, [2], P0_derivative[0])\n",
    "np.put(B_x_1, [3], P1_derivative[0])\n",
    "np.put(B_y_1, [0], P0[1])\n",
    "np.put(B_y_1, [1], P1[1])\n",
    "np.put(B_y_1, [2], P0_derivative[1])\n",
    "np.put(B_y_1, [3], P1_derivative[1])\n",
    "np.put(B_z_1, [0], P0[2])\n",
    "np.put(B_z_1, [1], P1[2])\n",
    "np.put(B_z_1, [2], P0_derivative[2])\n",
    "np.put(B_z_1, [3], P1_derivative[2])"
   ]
  },
  {
   "cell_type": "code",
   "execution_count": 8,
   "metadata": {},
   "outputs": [],
   "source": [
    "#Between P1 and P2 #MB12\n",
    "np.put(B_x_2, [0], P1[0])\n",
    "np.put(B_x_2, [1], P2[0])\n",
    "np.put(B_x_2, [2], P1_derivative[0])\n",
    "np.put(B_x_2, [3], P2_derivative[0])\n",
    "np.put(B_y_2, [0], P1[1])\n",
    "np.put(B_y_2, [1], P2[1])\n",
    "np.put(B_y_2, [2], P1_derivative[1])\n",
    "np.put(B_y_2, [3], P2_derivative[1])\n",
    "np.put(B_z_2, [0], P1[2])\n",
    "np.put(B_z_2, [1], P2[2])\n",
    "np.put(B_z_2, [2], P1_derivative[2])\n",
    "np.put(B_z_2, [3], P2_derivative[2])"
   ]
  },
  {
   "cell_type": "code",
   "execution_count": 9,
   "metadata": {},
   "outputs": [],
   "source": [
    "#Between P2 and P3 #MB23\n",
    "np.put(B_x_3, [0], P2[0])\n",
    "np.put(B_x_3, [1], P3[0])\n",
    "np.put(B_x_3, [2], P2_derivative[0])\n",
    "np.put(B_x_3, [3], P3_derivative[0])\n",
    "np.put(B_y_3, [0], P2[1])\n",
    "np.put(B_y_3, [1], P3[1])\n",
    "np.put(B_y_3, [2], P2_derivative[1])\n",
    "np.put(B_y_3, [3], P3_derivative[1])\n",
    "np.put(B_z_3, [0], P2[2])\n",
    "np.put(B_z_3, [1], P3[2])\n",
    "np.put(B_z_3, [2], P2_derivative[2])\n",
    "np.put(B_z_3, [3], P3_derivative[2])"
   ]
  },
  {
   "cell_type": "code",
   "execution_count": 10,
   "metadata": {},
   "outputs": [],
   "source": [
    "#Between P3 and P5 MB35\n",
    "np.put(B_x_4, [0], P3[0])\n",
    "np.put(B_x_4, [1], P5[0])\n",
    "np.put(B_x_4, [2], P3_derivative[0])\n",
    "np.put(B_x_4, [3], P5_derivative[0])\n",
    "np.put(B_y_4, [0], P3[1])\n",
    "np.put(B_y_4, [1], P5[1])\n",
    "np.put(B_y_4, [2], P3_derivative[1])\n",
    "np.put(B_y_4, [3], P5_derivative[1])\n",
    "np.put(B_z_4, [0], P3[2])\n",
    "np.put(B_z_4, [1], P5[2])\n",
    "np.put(B_z_4, [2], P3_derivative[2])\n",
    "np.put(B_z_4, [3], P5_derivative[2])"
   ]
  },
  {
   "cell_type": "code",
   "execution_count": 11,
   "metadata": {},
   "outputs": [],
   "source": [
    "MB01_x = np.matmul(M,B_x_1)\n",
    "MB01_y = np.matmul(M,B_y_1)\n",
    "MB01_z = np.matmul(M,B_z_1)\n",
    "MB12_x = np.matmul(M,B_x_2)\n",
    "MB12_y = np.matmul(M,B_y_2)\n",
    "MB12_z = np.matmul(M,B_z_2)\n",
    "MB23_x = np.matmul(M,B_x_3)\n",
    "MB23_y = np.matmul(M,B_y_3)\n",
    "MB23_z = np.matmul(M,B_z_3)\n",
    "MB35_x = np.matmul(M,B_x_4)\n",
    "MB35_y = np.matmul(M,B_y_4)\n",
    "MB35_z = np.matmul(M,B_z_4)"
   ]
  },
  {
   "cell_type": "code",
   "execution_count": 12,
   "metadata": {},
   "outputs": [],
   "source": [
    "h01 = math.sqrt((P1[0] - P0[0])**2 + (P1[1] - P0[1])**2 + (P1[2] - P0[2])**2)\n",
    "h12 = math.sqrt((P2[0] - P1[0])**2 + (P2[1] - P1[1])**2 + (P2[2] - P1[2])**2)\n",
    "h23 = math.sqrt((P3[0] - P2[0])**2 + (P3[1] - P2[1])**2 + (P3[2] - P2[2])**2)\n",
    "h35 = math.sqrt((P5[0] - P3[0])**2 + (P5[1] - P3[1])**2 + (P5[2] - P3[2])**2)"
   ]
  },
  {
   "cell_type": "code",
   "execution_count": 13,
   "metadata": {},
   "outputs": [],
   "source": [
    "T01 = np.zeros((100,4))\n",
    "T12 = np.zeros((100,4))\n",
    "T23 = np.zeros((100,4))\n",
    "T35 = np.zeros((100,4))\n",
    "i = 0\n",
    "for u in np.linspace(0,1,100):\n",
    "    T01[i][:] = [1, u*h01, (u**2)*(h01**2), (u**3)*(h01**3)]\n",
    "    T12[i][:] = [1, u*h12, (u**2)*(h12**2), (u**3)*(h12**3)]\n",
    "    T23[i][:] = [1, u*h23, (u**2)*(h23**2), (u**3)*(h23**3)]\n",
    "    T35[i][:] = [1, u*h35, (u**2)*(h35**2), (u**3)*(h35**3)]\n",
    "    i = i + 1"
   ]
  },
  {
   "cell_type": "code",
   "execution_count": 14,
   "metadata": {},
   "outputs": [],
   "source": [
    "X01 = np.zeros((100,4)) + 1\n",
    "X12 = np.zeros((100,4)) + 1\n",
    "X23 = np.zeros((100,4)) + 1\n",
    "X35 = np.zeros((100,4)) + 1\n",
    "J01 = [1 , (1/h01), (1/(h01)**2), (1/(h01)**3)]\n",
    "J12 = [1 , (1/h12), (1/(h12)**2), (1/(h12)**3)]\n",
    "J23 = [1 , (1/h23), (1/(h23)**2), (1/(h23)**3)]\n",
    "J35 = [1 , (1/h35), (1/(h35)**2), (1/(h35)**3)]"
   ]
  },
  {
   "cell_type": "code",
   "execution_count": 15,
   "metadata": {},
   "outputs": [],
   "source": [
    "X01 = X01*J01\n",
    "X12 = X12*J12\n",
    "X23 = X23*J23\n",
    "X35 = X35*J35\n",
    "X01 = np.matrix.transpose(X01)\n",
    "X12 = np.matrix.transpose(X12)\n",
    "X23 = np.matrix.transpose(X23)\n",
    "X35 = np.matrix.transpose(X35)"
   ]
  },
  {
   "cell_type": "code",
   "execution_count": 16,
   "metadata": {},
   "outputs": [
    {
     "data": {
      "text/plain": [
       "(4, 1)"
      ]
     },
     "execution_count": 16,
     "metadata": {},
     "output_type": "execute_result"
    }
   ],
   "source": [
    "U01 = np.matmul(T01,X01)\n",
    "U12 = np.matmul(T12,X12)\n",
    "U23 = np.matmul(T23,X23)\n",
    "U35 = np.matmul(T35,X35)\n",
    "U01.shape\n",
    "MB01_x.shape"
   ]
  },
  {
   "cell_type": "code",
   "execution_count": 17,
   "metadata": {},
   "outputs": [],
   "source": [
    "P = np.zeros((100,4))\n",
    "i = 0\n",
    "for u in np.linspace(0,1,100):\n",
    "    P[i][:] = [1, u, (u*u), (u*u*u)]\n",
    "    i = i + 1"
   ]
  },
  {
   "cell_type": "code",
   "execution_count": 19,
   "metadata": {},
   "outputs": [],
   "source": [
    "F_x01 = np.matmul(P,MB01_x) \n",
    "F_y01 = np.matmul(P,MB01_y)\n",
    "F_z01 = np.matmul(P,MB01_z)\n",
    "F_x12 = np.matmul(P,MB12_x) \n",
    "F_y12 = np.matmul(P,MB12_y)\n",
    "F_z12 = np.matmul(P,MB12_z)\n",
    "F_x23 = np.matmul(P,MB23_x) \n",
    "F_y23 = np.matmul(P,MB23_y)\n",
    "F_z23 = np.matmul(P,MB23_z)\n",
    "F_x35 = np.matmul(P,MB35_x) \n",
    "F_y35 = np.matmul(P,MB35_y)\n",
    "F_z35 = np.matmul(P,MB35_z)"
   ]
  },
  {
   "cell_type": "code",
   "execution_count": 20,
   "metadata": {},
   "outputs": [
    {
     "data": {
      "image/png": "[encoded data removed]",
      "text/plain": [
       "<Figure size 432x288 with 1 Axes>"
      ]
     },
     "metadata": {
      "needs_background": "light"
     },
     "output_type": "display_data"
    }
   ],
   "source": [
    "#Plot on 2D Surface using two coordinates\n",
    "plt.plot(F_x01,F_y01)\n",
    "plt.plot(F_x12,F_y12)\n",
    "plt.plot(F_x23,F_y23)\n",
    "plt.plot(F_x35,F_y35)\n",
    "plt.show()"
   ]
  },
  {
   "cell_type": "code",
   "execution_count": 21,
   "metadata": {},
   "outputs": [
    {
     "data": {
      "text/plain": [
       "<mpl_toolkits.mplot3d.art3d.Path3DCollection at 0x7fcf258c3fd0>"
      ]
     },
     "execution_count": 21,
     "metadata": {},
     "output_type": "execute_result"
    },
    {
     "data": {
      "image/png": "[encoded data removed]",
      "text/plain": [
       "<Figure size 432x288 with 1 Axes>"
      ]
     },
     "metadata": {
      "needs_background": "light"
     },
     "output_type": "display_data"
    }
   ],
   "source": [
    "#3D Scatter plot using three coordinates\n",
    "ax = plt.axes(projection='3d')\n",
    "ax.scatter3D(F_x01,F_y01,F_z01)\n",
    "ax.scatter3D(F_x12,F_y12,F_z12)\n",
    "ax.scatter3D(F_x23,F_y23,F_z23)\n",
    "ax.scatter3D(F_x35,F_y35,F_z35)"
   ]
  },
  {
   "cell_type": "code",
   "execution_count": null,
   "metadata": {},
   "outputs": [],
   "source": []
  }
 ],
 "metadata": {
  "kernelspec": {
   "display_name": "Python 3",
   "language": "python",
   "name": "python3"
  },
  "language_info": {
   "codemirror_mode": {
    "name": "ipython",
    "version": 3
   },
   "file_extension": ".py",
   "mimetype": "text/x-python",
   "name": "python",
   "nbconvert_exporter": "python",
   "pygments_lexer": "ipython3",
   "version": "3.6.6"
  }
 },
 "nbformat": 4,
 "nbformat_minor": 2
}
